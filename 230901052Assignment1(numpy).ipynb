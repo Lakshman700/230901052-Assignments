{
 "cells": [
  {
   "cell_type": "code",
   "execution_count": 4,
   "id": "0069f4c0-1866-4a5d-a299-514d0ffc2684",
   "metadata": {},
   "outputs": [
    {
     "name": "stdout",
     "output_type": "stream",
     "text": [
      "\n",
      "Random Value\n",
      " [[0.57990183 0.87201664 0.23327632 0.77758569]\n",
      " [0.58421816 0.75182297 0.24906188 0.3006072 ]\n",
      " [0.94451871 0.59662172 0.01265641 0.55033511]]\n"
     ]
    }
   ],
   "source": [
    "#create 3*4 array with random value:\n",
    "import numpy as np\n",
    "d=np.random.random((3,4))\n",
    "print(\"\\nRandom Value\\n\",d)"
   ]
  },
  {
   "cell_type": "code",
   "execution_count": 6,
   "id": "171a5893-c59b-45db-b668-4af4f8eee3e2",
   "metadata": {},
   "outputs": [
    {
     "name": "stdout",
     "output_type": "stream",
     "text": [
      "\n",
      " Array with all zeros\n",
      " [[0. 0. 0. 0.]\n",
      " [0. 0. 0. 0.]\n",
      " [0. 0. 0. 0.]]\n"
     ]
    }
   ],
   "source": [
    "#create 3*4 with zeros:\n",
    "import numpy as np\n",
    "c=np.zeros((3,4))\n",
    "print(\"\\n Array with all zeros\\n\",c)"
   ]
  },
  {
   "cell_type": "code",
   "execution_count": 10,
   "id": "cc3700ec-81c4-4be6-9569-ce23e33fca84",
   "metadata": {},
   "outputs": [
    {
     "name": "stdout",
     "output_type": "stream",
     "text": [
      "\n",
      " Sequence array\n",
      " [ 5  7  9 11 13 15 17 19 21 23 25 27 29]\n"
     ]
    }
   ],
   "source": [
    "#1-d array with range 5-30 :\n",
    "import numpy as np\n",
    "e=np.arange(5,30,2)\n",
    "print(\"\\n Sequence array\\n\",e)"
   ]
  },
  {
   "cell_type": "code",
   "execution_count": 2,
   "id": "d7bed5a0-229b-4ddb-b1fc-fb05eff705ec",
   "metadata": {},
   "outputs": [
    {
     "ename": "SyntaxError",
     "evalue": "unmatched ')' (3569437374.py, line 4)",
     "output_type": "error",
     "traceback": [
      "\u001b[0;36m  Cell \u001b[0;32mIn[2], line 4\u001b[0;36m\u001b[0m\n\u001b[0;31m    print\"\\nDimension of this array:\",arr.ndim)\u001b[0m\n\u001b[0m                                              ^\u001b[0m\n\u001b[0;31mSyntaxError\u001b[0m\u001b[0;31m:\u001b[0m unmatched ')'\n"
     ]
    }
   ],
   "source": [
    "import numpy as np\n",
    "ar=np.array([[1,2,3],[2,3,4],[3,4,5]])\n",
    "print(arr)\n",
    "print\"\\nDimension of this array:\",arr.ndim)\n",
    "print(\"\\nDatatype of this array:\",arr.dtype)\n",
    "print(\"\\nShape:\"arr.shape)\n",
    "print(\"\\Flatten array:\"arr.flatten())\n"
   ]
  },
  {
   "cell_type": "code",
   "execution_count": null,
   "id": "966ab3bc-d3c5-4199-b303-26d57b082342",
   "metadata": {},
   "outputs": [],
   "source": []
  }
 ],
 "metadata": {
  "kernelspec": {
   "display_name": "Python 3 (ipykernel)",
   "language": "python",
   "name": "python3"
  },
  "language_info": {
   "codemirror_mode": {
    "name": "ipython",
    "version": 3
   },
   "file_extension": ".py",
   "mimetype": "text/x-python",
   "name": "python",
   "nbconvert_exporter": "python",
   "pygments_lexer": "ipython3",
   "version": "3.12.7"
  }
 },
 "nbformat": 4,
 "nbformat_minor": 5
}
